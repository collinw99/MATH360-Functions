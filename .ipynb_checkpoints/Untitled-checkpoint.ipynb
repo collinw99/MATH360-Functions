{
 "cells": [
  {
   "cell_type": "code",
   "execution_count": 1,
   "metadata": {},
   "outputs": [],
   "source": [
    "import crypto as c"
   ]
  },
  {
   "cell_type": "code",
   "execution_count": 2,
   "metadata": {},
   "outputs": [
    {
     "name": "stdout",
     "output_type": "stream",
     "text": [
      "Testing values from 2 to 409\n",
      "Factors of 168019 :\n",
      "401 419\n"
     ]
    }
   ],
   "source": [
    "c.trial_factor(168019)"
   ]
  },
  {
   "cell_type": "code",
   "execution_count": 3,
   "metadata": {},
   "outputs": [
    {
     "name": "stdout",
     "output_type": "stream",
     "text": [
      "n =  168019\n",
      "410 ^2 mod 168019 = 81\n",
      "9 ^2 mod 168019 = 81\n",
      "gcd( 410 - 9 , 168019 ) = 401\n",
      "168019 / 401 = 419.0\n",
      "\n",
      "Factors of 168019 : 401 419\n"
     ]
    }
   ],
   "source": [
    "c.fermats_method(168019)"
   ]
  },
  {
   "cell_type": "code",
   "execution_count": 4,
   "metadata": {},
   "outputs": [
    {
     "name": "stdout",
     "output_type": "stream",
     "text": [
      "Encrypted message: [1248407, 345776, 317846]\n",
      "1248407 ^ 869 mod 1846303 = 62114\n",
      "06 = F\n",
      "21 = U\n",
      "14 = N\n",
      "345776 ^ 869 mod 1846303 = 60103\n",
      "06 = F\n",
      "01 = A\n",
      "03 = C\n",
      "317846 ^ 869 mod 1846303 = 201518\n",
      "20 = T\n",
      "15 = O\n",
      "18 = R\n",
      "Decrypted message: FUNFACTOR\n"
     ]
    },
    {
     "data": {
      "text/plain": [
       "'FUNFACTOR'"
      ]
     },
     "execution_count": 4,
     "metadata": {},
     "output_type": "execute_result"
    }
   ],
   "source": [
    "c.RSA_decrypt([1248407, 345776, 317846], 1846303, 869)"
   ]
  },
  {
   "cell_type": "code",
   "execution_count": 5,
   "metadata": {},
   "outputs": [
    {
     "name": "stdout",
     "output_type": "stream",
     "text": [
      "a * 59 = 1 mod 10200\n",
      "gcd( 59 , 10200 ) = 1\n",
      "Multiplicative inverse: a = 2939\n"
     ]
    },
    {
     "data": {
      "text/plain": [
       "2939"
      ]
     },
     "execution_count": 5,
     "metadata": {},
     "output_type": "execute_result"
    }
   ],
   "source": [
    "c.mult_inverse(59, 10200)"
   ]
  },
  {
   "cell_type": "code",
   "execution_count": 6,
   "metadata": {},
   "outputs": [
    {
     "name": "stdout",
     "output_type": "stream",
     "text": [
      "phi( 10403 ) = 10200\n"
     ]
    },
    {
     "data": {
      "text/plain": [
       "10200"
      ]
     },
     "execution_count": 6,
     "metadata": {},
     "output_type": "execute_result"
    }
   ],
   "source": [
    "c.phi(101*103)"
   ]
  },
  {
   "cell_type": "code",
   "execution_count": 7,
   "metadata": {},
   "outputs": [
    {
     "name": "stdout",
     "output_type": "stream",
     "text": [
      "phi( 10403 ) = 10200\n",
      "a * 59 = 1 mod 10200\n",
      "gcd( 59 , 10200 ) = 1\n",
      "Multiplicative inverse: a = 2939\n",
      "Encrypted message: [902, 3509, 9833, 3548, 5181]\n",
      "902 ^ 2939 mod 10403 = 1921\n",
      "19 = S\n",
      "21 = U\n",
      "3509 ^ 2939 mod 10403 = 1605\n",
      "16 = P\n",
      "05 = E\n",
      "9833 ^ 2939 mod 10403 = 1804\n",
      "18 = R\n",
      "04 = D\n",
      "3548 ^ 2939 mod 10403 = 2116\n",
      "21 = U\n",
      "16 = P\n",
      "5181 ^ 2939 mod 10403 = 518\n",
      "05 = E\n",
      "18 = R\n",
      "Decrypted message: SUPERDUPER\n"
     ]
    },
    {
     "data": {
      "text/plain": [
       "'SUPERDUPER'"
      ]
     },
     "execution_count": 7,
     "metadata": {},
     "output_type": "execute_result"
    }
   ],
   "source": [
    "c.RSA_decrypt([902, 3509, 9833, 3548, 5181], 10403, c.mult_inverse(59, c.phi(10403)))"
   ]
  },
  {
   "cell_type": "code",
   "execution_count": 5,
   "metadata": {},
   "outputs": [
    {
     "name": "stdout",
     "output_type": "stream",
     "text": [
      "Message: MUSTARD\n",
      "M = 13\n",
      "U = 21\n",
      "S = 19\n",
      "T = 20\n",
      "A = 01\n",
      "R = 18\n",
      "D = 04\n",
      "Split message every 3 charaters: ['132119', '200118', '04']\n",
      "Encrypted message: [14611085, 12421303, 47107837]\n"
     ]
    },
    {
     "data": {
      "text/plain": [
       "[14611085, 12421303, 47107837]"
      ]
     },
     "execution_count": 5,
     "metadata": {},
     "output_type": "execute_result"
    }
   ],
   "source": [
    "c.RSA_encrypt(\"MUSTARD\", 49140019, 179)"
   ]
  },
  {
   "cell_type": "code",
   "execution_count": 6,
   "metadata": {},
   "outputs": [
    {
     "name": "stdout",
     "output_type": "stream",
     "text": [
      "Encrypted message: [19019931, 1619805, 740498, 2671344]\n",
      "19019931 ^ 1061 mod 25330309 = 31805\n",
      "03 = C\n",
      "18 = R\n",
      "05 = E\n",
      "1619805 ^ 1061 mod 25330309 = 11303\n",
      "01 = A\n",
      "13 = M\n",
      "03 = C\n",
      "740498 ^ 1061 mod 25330309 = 80505\n",
      "08 = H\n",
      "05 = E\n",
      "05 = E\n",
      "2671344 ^ 1061 mod 25330309 = 1905\n",
      "19 = S\n",
      "05 = E\n",
      "Decrypted message: CREAMCHEESE\n"
     ]
    },
    {
     "data": {
      "text/plain": [
       "'CREAMCHEESE'"
      ]
     },
     "execution_count": 6,
     "metadata": {},
     "output_type": "execute_result"
    }
   ],
   "source": [
    "c.RSA_decrypt([19019931, 1619805, 740498, 2671344], 25330309, 1061)"
   ]
  },
  {
   "cell_type": "code",
   "execution_count": null,
   "metadata": {},
   "outputs": [],
   "source": []
  }
 ],
 "metadata": {
  "kernelspec": {
   "display_name": "Python 3",
   "language": "python",
   "name": "python3"
  },
  "language_info": {
   "codemirror_mode": {
    "name": "ipython",
    "version": 3
   },
   "file_extension": ".py",
   "mimetype": "text/x-python",
   "name": "python",
   "nbconvert_exporter": "python",
   "pygments_lexer": "ipython3",
   "version": "3.8.1"
  }
 },
 "nbformat": 4,
 "nbformat_minor": 4
}
