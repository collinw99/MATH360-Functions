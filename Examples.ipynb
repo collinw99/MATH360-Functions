{
 "cells": [
  {
   "cell_type": "code",
   "execution_count": 2,
   "metadata": {},
   "outputs": [],
   "source": [
    "import crypto as c"
   ]
  },
  {
   "cell_type": "code",
   "execution_count": 11,
   "metadata": {},
   "outputs": [
    {
     "name": "stdout",
     "output_type": "stream",
     "text": "Testing values from 2 to 409\nFactors of 168019 :\n401 419\n"
    }
   ],
   "source": [
    "c.trial_factor(168019)"
   ]
  },
  {
   "cell_type": "code",
   "execution_count": 12,
   "metadata": {},
   "outputs": [
    {
     "name": "stdout",
     "output_type": "stream",
     "text": "n =  1476221\n1215 ^2 mod 1476221 = 4\n2 ^2 mod 1476221 = 4\ngcd( 1215 - 2 , 1476221 ) = 1213\n1476221 / 1213 = 1217.0\n\nFactors of 1476221 : 1213 1217\n"
    }
   ],
   "source": [
    "c.fermats_method(1476221)"
   ]
  },
  {
   "cell_type": "code",
   "execution_count": 13,
   "metadata": {},
   "outputs": [
    {
     "name": "stdout",
     "output_type": "stream",
     "text": "Encrypted message: [1248407, 345776, 317846]\n1248407 ^ 869 mod 1846303 = 62114\n06 = F\n21 = U\n14 = N\n345776 ^ 869 mod 1846303 = 60103\n06 = F\n01 = A\n03 = C\n317846 ^ 869 mod 1846303 = 201518\n20 = T\n15 = O\n18 = R\nDecrypted message: FUNFACTOR\n"
    },
    {
     "data": {
      "text/plain": "'FUNFACTOR'"
     },
     "execution_count": 13,
     "metadata": {},
     "output_type": "execute_result"
    }
   ],
   "source": [
    "c.RSA_decrypt([1248407, 345776, 317846], 1846303, 869)"
   ]
  },
  {
   "cell_type": "code",
   "execution_count": 3,
   "metadata": {},
   "outputs": [
    {
     "output_type": "stream",
     "name": "stdout",
     "text": "a * 183 = 1 mod 256\ngcd( 183 , 256 ) = 1\nMultiplicative inverse: a = 7\n"
    },
    {
     "output_type": "execute_result",
     "data": {
      "text/plain": "7"
     },
     "metadata": {},
     "execution_count": 3
    }
   ],
   "source": [
    "c.mult_inverse(183, 256)"
   ]
  },
  {
   "cell_type": "code",
   "execution_count": 15,
   "metadata": {},
   "outputs": [
    {
     "name": "stdout",
     "output_type": "stream",
     "text": "phi( 10403 ) = 10200\n"
    },
    {
     "data": {
      "text/plain": "10200"
     },
     "execution_count": 15,
     "metadata": {},
     "output_type": "execute_result"
    }
   ],
   "source": [
    "c.phi(101*103)"
   ]
  },
  {
   "cell_type": "code",
   "execution_count": 16,
   "metadata": {},
   "outputs": [
    {
     "name": "stdout",
     "output_type": "stream",
     "text": "phi( 62251979 ) = 62236200\na * 583 = 1 mod 62236200\ngcd( 583 , 62236200 ) = 1\nMultiplicative inverse: a = 32559247\nEncrypted message: [40513610, 53979973, 56449676, 35068535]\n40513610 ^ 32559247 mod 62251979 = 220514\n22 = V\n05 = E\n14 = N\n53979973 ^ 32559247 mod 62251979 = 92209\n09 = I\n22 = V\n09 = I\n56449676 ^ 32559247 mod 62251979 = 40922\n04 = D\n09 = I\n22 = V\n35068535 ^ 32559247 mod 62251979 = 90309\n09 = I\n03 = C\n09 = I\nDecrypted message: VENIVIDIVICI\n"
    },
    {
     "data": {
      "text/plain": "'VENIVIDIVICI'"
     },
     "execution_count": 16,
     "metadata": {},
     "output_type": "execute_result"
    }
   ],
   "source": [
    "c.RSA_decrypt([40513610, 53979973, 56449676, 35068535], 62251979, c.mult_inverse(583, c.phi(62251979)))"
   ]
  },
  {
   "cell_type": "code",
   "execution_count": 17,
   "metadata": {},
   "outputs": [
    {
     "name": "stdout",
     "output_type": "stream",
     "text": "Message: STRAWBERRY\nS = 19\nT = 20\nR = 18\nA = 01\nW = 23\nB = 02\nE = 05\nR = 18\nR = 18\nY = 25\nSplit message every 3 charaters: ['192018', '012302', '051818', '25']\nEncrypted message: [24539634, 21437001, 34932291, 41227470]\n"
    },
    {
     "data": {
      "text/plain": "[24539634, 21437001, 34932291, 41227470]"
     },
     "execution_count": 17,
     "metadata": {},
     "output_type": "execute_result"
    }
   ],
   "source": [
    "c.RSA_encrypt(\"STRAWBERRY\", 7853*7673, 9017)"
   ]
  },
  {
   "cell_type": "code",
   "execution_count": 18,
   "metadata": {},
   "outputs": [
    {
     "name": "stdout",
     "output_type": "stream",
     "text": "Encrypted message: [4301259, 1656314, 10335280, 4726676]\n4301259 ^ 3221 mod 15806093 = 20501\n02 = B\n05 = E\n01 = A\n1656314 ^ 3221 mod 15806093 = 30801\n03 = C\n08 = H\n01 = A\n10335280 ^ 3221 mod 15806093 = 140406\n14 = N\n04 = D\n06 = F\n4726676 ^ 3221 mod 15806093 = 2114\n21 = U\n14 = N\nDecrypted message: BEACHANDFUN\n"
    },
    {
     "data": {
      "text/plain": "'BEACHANDFUN'"
     },
     "execution_count": 18,
     "metadata": {},
     "output_type": "execute_result"
    }
   ],
   "source": [
    "c.RSA_decrypt([4301259, 1656314, 10335280, 4726676], 15806093, 3221)"
   ]
  },
  {
   "cell_type": "code",
   "execution_count": null,
   "metadata": {},
   "outputs": [],
   "source": []
  }
 ],
 "metadata": {
  "kernelspec": {
   "display_name": "Python 3",
   "language": "python",
   "name": "python3"
  },
  "language_info": {
   "codemirror_mode": {
    "name": "ipython",
    "version": 3
   },
   "file_extension": ".py",
   "mimetype": "text/x-python",
   "name": "python",
   "nbconvert_exporter": "python",
   "pygments_lexer": "ipython3",
   "version": "3.8.1-final"
  }
 },
 "nbformat": 4,
 "nbformat_minor": 4
}